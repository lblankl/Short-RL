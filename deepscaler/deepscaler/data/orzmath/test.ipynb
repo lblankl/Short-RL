{
 "cells": [
  {
   "cell_type": "code",
   "execution_count": 1,
   "metadata": {},
   "outputs": [
    {
     "name": "stdout",
     "output_type": "stream",
     "text": [
      "56878\n"
     ]
    }
   ],
   "source": [
    "import json\n",
    "datap=\"/mnt/danlongyuan/ShortR1/deepscaler/deepscaler/data/orzmath/orz_math_57k_collected.json\"\n",
    "data = json.load(open(datap))\n",
    "print(len(data))"
   ]
  },
  {
   "cell_type": "code",
   "execution_count": 9,
   "metadata": {},
   "outputs": [
    {
     "name": "stdout",
     "output_type": "stream",
     "text": [
      "{'from': 'human', 'value': '$P(x)$ is a polynomial of degree $3n$ such that\\n\\\\begin{eqnarray*} P(0) = P(3) = \\\\cdots &=& P(3n) = 2, \\\\\\\\ P(1) = P(4) = \\\\cdots &=& P(3n-2) = 1, \\\\\\\\ P(2) = P(5) = \\\\cdots &=& P(3n-1) = 0, \\\\quad\\\\text{ and }\\\\\\\\ && P(3n+1) = 730.\\\\end{eqnarray*}\\nDetermine $n$.'}\n"
     ]
    }
   ],
   "source": [
    "print(data[0][0])\n",
    "#{'from': 'human', 'value': '$P(x)$ is a polynomial of degree $3n$ such that\\n\\\\begin{eqnarray*} P(0) = P(3) = \\\\cdots &=& P(3n) = 2, \\\\\\\\ P(1) = P(4) = \\\\cdots &=& P(3n-2) = 1, \\\\\\\\ P(2) = P(5) = \\\\cdots &=& P(3n-1) = 0, \\\\quad\\\\text{ and }\\\\\\\\ && P(3n+1) = 730.\\\\end{eqnarray*}\\nDetermine $n$.'\n",
    "#concert to a list of dict\n",
    "# with 'question' and 'answer' keys\n",
    "newdata = [{'question': d[0]['value'], 'answer': d[1]['ground_truth']['value']} for d in data]"
   ]
  },
  {
   "cell_type": "code",
   "execution_count": null,
   "metadata": {},
   "outputs": [
    {
     "name": "stdout",
     "output_type": "stream",
     "text": [
      "{'question': 'Tim and Allen are playing a match of *tenus*.  In a match of *tenus*, the two players play a series of games, each of which is won by one of the two players. The match ends when one player has won exactly two more games than the other player, at which point the player who has won more games wins the match. In odd-numbered games, Tim wins with probability  $3/4$ , and in the even-numbered games, Allen wins with probability  $3/4$ .  What is the expected number of games in a match?', 'answer': '\\\\frac{16}{3}'}\n"
     ]
    }
   ],
   "source": [
    "#save to a new json file\n",
    "newp=\"/mnt/danlongyuan/ShortR1/deepscaler/deepscaler/data/orzmath/orz_math_57k_collected_qa.json\"\n",
    "json.dump(newdata, open(newp, 'w'))"
   ]
  }
 ],
 "metadata": {
  "kernelspec": {
   "display_name": "flash",
   "language": "python",
   "name": "python3"
  },
  "language_info": {
   "codemirror_mode": {
    "name": "ipython",
    "version": 3
   },
   "file_extension": ".py",
   "mimetype": "text/x-python",
   "name": "python",
   "nbconvert_exporter": "python",
   "pygments_lexer": "ipython3",
   "version": "3.10.15"
  }
 },
 "nbformat": 4,
 "nbformat_minor": 2
}
