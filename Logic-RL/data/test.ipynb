{
 "cells": [
  {
   "cell_type": "code",
   "execution_count": 1,
   "metadata": {},
   "outputs": [
    {
     "data": {
      "text/html": [
       "<div>\n",
       "<style scoped>\n",
       "    .dataframe tbody tr th:only-of-type {\n",
       "        vertical-align: middle;\n",
       "    }\n",
       "\n",
       "    .dataframe tbody tr th {\n",
       "        vertical-align: top;\n",
       "    }\n",
       "\n",
       "    .dataframe thead th {\n",
       "        text-align: right;\n",
       "    }\n",
       "</style>\n",
       "<table border=\"1\" class=\"dataframe\">\n",
       "  <thead>\n",
       "    <tr style=\"text-align: right;\">\n",
       "      <th></th>\n",
       "      <th>data_source</th>\n",
       "      <th>prompt</th>\n",
       "      <th>ability</th>\n",
       "      <th>reward_model</th>\n",
       "      <th>extra_info</th>\n",
       "    </tr>\n",
       "  </thead>\n",
       "  <tbody>\n",
       "    <tr>\n",
       "      <th>0</th>\n",
       "      <td></td>\n",
       "      <td>[{'content': 'Every morning Aya goes for a $9$...</td>\n",
       "      <td>math</td>\n",
       "      <td>{'ground_truth': '204', 'style': 'rule'}</td>\n",
       "      <td>{'index': 0, 'split': 'test'}</td>\n",
       "    </tr>\n",
       "    <tr>\n",
       "      <th>1</th>\n",
       "      <td></td>\n",
       "      <td>[{'content': 'There exist real numbers $x$ and...</td>\n",
       "      <td>math</td>\n",
       "      <td>{'ground_truth': '025', 'style': 'rule'}</td>\n",
       "      <td>{'index': 1, 'split': 'test'}</td>\n",
       "    </tr>\n",
       "    <tr>\n",
       "      <th>2</th>\n",
       "      <td></td>\n",
       "      <td>[{'content': 'Alice and Bob play the following...</td>\n",
       "      <td>math</td>\n",
       "      <td>{'ground_truth': '809', 'style': 'rule'}</td>\n",
       "      <td>{'index': 2, 'split': 'test'}</td>\n",
       "    </tr>\n",
       "    <tr>\n",
       "      <th>3</th>\n",
       "      <td></td>\n",
       "      <td>[{'content': 'Jen enters a lottery by picking ...</td>\n",
       "      <td>math</td>\n",
       "      <td>{'ground_truth': '116', 'style': 'rule'}</td>\n",
       "      <td>{'index': 3, 'split': 'test'}</td>\n",
       "    </tr>\n",
       "    <tr>\n",
       "      <th>4</th>\n",
       "      <td></td>\n",
       "      <td>[{'content': 'Rectangles $ABCD$ and $EFGH$ are...</td>\n",
       "      <td>math</td>\n",
       "      <td>{'ground_truth': '104', 'style': 'rule'}</td>\n",
       "      <td>{'index': 4, 'split': 'test'}</td>\n",
       "    </tr>\n",
       "  </tbody>\n",
       "</table>\n",
       "</div>"
      ],
      "text/plain": [
       "  data_source                                             prompt ability  \\\n",
       "0              [{'content': 'Every morning Aya goes for a $9$...    math   \n",
       "1              [{'content': 'There exist real numbers $x$ and...    math   \n",
       "2              [{'content': 'Alice and Bob play the following...    math   \n",
       "3              [{'content': 'Jen enters a lottery by picking ...    math   \n",
       "4              [{'content': 'Rectangles $ABCD$ and $EFGH$ are...    math   \n",
       "\n",
       "                               reward_model                     extra_info  \n",
       "0  {'ground_truth': '204', 'style': 'rule'}  {'index': 0, 'split': 'test'}  \n",
       "1  {'ground_truth': '025', 'style': 'rule'}  {'index': 1, 'split': 'test'}  \n",
       "2  {'ground_truth': '809', 'style': 'rule'}  {'index': 2, 'split': 'test'}  \n",
       "3  {'ground_truth': '116', 'style': 'rule'}  {'index': 3, 'split': 'test'}  \n",
       "4  {'ground_truth': '104', 'style': 'rule'}  {'index': 4, 'split': 'test'}  "
      ]
     },
     "execution_count": 1,
     "metadata": {},
     "output_type": "execute_result"
    }
   ],
   "source": [
    "datafiles=\"/mnt/danlongyuan/ShortR1/deepscaler/deepscaler/hdfs_data/aime.parquet\"\n",
    "#read data\n",
    "import pandas as pd\n",
    "data = pd.read_parquet(datafiles)\n",
    "data.head()"
   ]
  },
  {
   "cell_type": "code",
   "execution_count": 5,
   "metadata": {},
   "outputs": [
    {
     "name": "stdout",
     "output_type": "stream",
     "text": [
      "  data_source                                             prompt ability  \\\n",
      "0              [{'content': 'Every morning Aya goes for a $9$...    math   \n",
      "1              [{'content': 'There exist real numbers $x$ and...    math   \n",
      "2              [{'content': 'Alice and Bob play the following...    math   \n",
      "3              [{'content': 'Jen enters a lottery by picking ...    math   \n",
      "\n",
      "                               reward_model                     extra_info  \n",
      "0  {'ground_truth': '204', 'style': 'rule'}  {'index': 0, 'split': 'test'}  \n",
      "1  {'ground_truth': '025', 'style': 'rule'}  {'index': 1, 'split': 'test'}  \n",
      "2  {'ground_truth': '809', 'style': 'rule'}  {'index': 2, 'split': 'test'}  \n",
      "3  {'ground_truth': '116', 'style': 'rule'}  {'index': 3, 'split': 'test'}  \n"
     ]
    }
   ],
   "source": [
    "d=data.iloc[0:4]\n",
    "print(d)"
   ]
  }
 ],
 "metadata": {
  "kernelspec": {
   "display_name": "flash",
   "language": "python",
   "name": "python3"
  },
  "language_info": {
   "codemirror_mode": {
    "name": "ipython",
    "version": 3
   },
   "file_extension": ".py",
   "mimetype": "text/x-python",
   "name": "python",
   "nbconvert_exporter": "python",
   "pygments_lexer": "ipython3",
   "version": "3.10.15"
  }
 },
 "nbformat": 4,
 "nbformat_minor": 2
}
